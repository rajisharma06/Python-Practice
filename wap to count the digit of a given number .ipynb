{
 "cells": [
  {
   "cell_type": "code",
   "execution_count": 3,
   "id": "b6d4f1cd-56ad-4515-bc26-183a98cbecd5",
   "metadata": {},
   "outputs": [
    {
     "name": "stdin",
     "output_type": "stream",
     "text": [
      " 4\n",
      " 10\n"
     ]
    },
    {
     "name": "stdout",
     "output_type": "stream",
     "text": [
      "4\n",
      "5\n",
      "6\n",
      "7\n",
      "8\n",
      "9\n",
      "10\n"
     ]
    }
   ],
   "source": [
    "#write a programmto print all the numbers between a and b(a and b )is inclusive using while loop\n",
    "a=int(input())\n",
    "b=int(input())\n",
    "while a>=b:\n",
    "  pass\n",
    "else:\n",
    " for i in range(a,b+1):\n",
    "        print(i)\n",
    "     \n",
    "    "
   ]
  },
  {
   "cell_type": "code",
   "execution_count": 8,
   "id": "f4edcc68-b7d0-4721-8fd4-0ebcced6850c",
   "metadata": {},
   "outputs": [
    {
     "name": "stdin",
     "output_type": "stream",
     "text": [
      " 10\n",
      " 4\n"
     ]
    },
    {
     "name": "stdout",
     "output_type": "stream",
     "text": [
      "10\n",
      "9\n",
      "8\n",
      "7\n",
      "6\n",
      "5\n",
      "4\n"
     ]
    }
   ],
   "source": [
    "a=int(input())\n",
    "b=int(input())\n",
    "while a>=b:\n",
    "   print(a)\n",
    "   a-=1"
   ]
  },
  {
   "cell_type": "code",
   "execution_count": 12,
   "id": "abe27f3f-3879-46cc-8abb-a3a1d55439ad",
   "metadata": {},
   "outputs": [
    {
     "name": "stdin",
     "output_type": "stream",
     "text": [
      " 156\n"
     ]
    },
    {
     "name": "stdout",
     "output_type": "stream",
     "text": [
      "3\n"
     ]
    }
   ],
   "source": [
    "x=int(input())\n",
    "z=str(x)\n",
    "tot_digit=0\n",
    "for i in z:\n",
    "    tot_digit+=1\n",
    "print(tot_digit)"
   ]
  },
  {
   "cell_type": "code",
   "execution_count": null,
   "id": "b6689c69-2acd-4a63-9d1a-18fc341e1de0",
   "metadata": {},
   "outputs": [],
   "source": []
  }
 ],
 "metadata": {
  "kernelspec": {
   "display_name": "Python 3 (ipykernel)",
   "language": "python",
   "name": "python3"
  },
  "language_info": {
   "codemirror_mode": {
    "name": "ipython",
    "version": 3
   },
   "file_extension": ".py",
   "mimetype": "text/x-python",
   "name": "python",
   "nbconvert_exporter": "python",
   "pygments_lexer": "ipython3",
   "version": "3.12.4"
  }
 },
 "nbformat": 4,
 "nbformat_minor": 5
}
