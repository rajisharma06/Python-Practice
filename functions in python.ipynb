{
 "cells": [
  {
   "cell_type": "code",
   "execution_count": 5,
   "id": "99598fac-0204-4f5f-b7a4-bc08575fe648",
   "metadata": {},
   "outputs": [
    {
     "name": "stdout",
     "output_type": "stream",
     "text": [
      "8\n"
     ]
    }
   ],
   "source": [
    " #program to ad 2 numbers with using functions\n",
    "def add(a,b):\n",
    "    return a+b\n",
    "res=add(4,4)\n",
    "print(res)"
   ]
  },
  {
   "cell_type": "code",
   "execution_count": 40,
   "id": "a2222b98-3479-48fe-b62e-229a5d1ca935",
   "metadata": {},
   "outputs": [],
   "source": [
    "#program for factorial of a number using function\n",
    "def fact(n):\n",
    "    fact=1\n",
    "    for i in range(1,n+1):\n",
    "        fact=fact*i\n",
    "        \n",
    "    return fact\n",
    "    "
   ]
  },
  {
   "cell_type": "code",
   "execution_count": 42,
   "id": "f600e4a3-12f8-4f6f-995e-1a5b6625241a",
   "metadata": {},
   "outputs": [
    {
     "name": "stdin",
     "output_type": "stream",
     "text": [
      " 5\n"
     ]
    },
    {
     "name": "stdout",
     "output_type": "stream",
     "text": [
      "120\n"
     ]
    }
   ],
   "source": [
    "n=int(input())\n",
    "print(fact(n))"
   ]
  },
  {
   "cell_type": "code",
   "execution_count": 44,
   "id": "7c01c845-fabc-4500-8e98-520d5c8dc613",
   "metadata": {},
   "outputs": [
    {
     "name": "stdout",
     "output_type": "stream",
     "text": [
      "good morning\n",
      "have a nice day\n"
     ]
    }
   ],
   "source": [
    "#function wihout argument and without return\n",
    "def msg():\n",
    "    print('good morning')\n",
    "    print('have a nice day')\n",
    "msg()"
   ]
  },
  {
   "cell_type": "code",
   "execution_count": 3,
   "id": "5f31feb0-e4fc-4e07-aed9-7bea79581937",
   "metadata": {},
   "outputs": [
    {
     "name": "stdout",
     "output_type": "stream",
     "text": [
      "30\n"
     ]
    }
   ],
   "source": [
    "# function with arugument and without return\n",
    "def add(a,b):\n",
    "    print(a+b)\n",
    "add(10,20)\n"
   ]
  },
  {
   "cell_type": "code",
   "execution_count": 11,
   "id": "f11bc163-cb5a-4731-8c2f-fe3e172d9028",
   "metadata": {},
   "outputs": [
    {
     "name": "stdout",
     "output_type": "stream",
     "text": [
      "30\n"
     ]
    }
   ],
   "source": [
    "#function without aergument and with return\n",
    "def add():\n",
    "    a=10\n",
    "    b=20\n",
    "    return(a+b)\n",
    "res=add()\n",
    "print(res)\n"
   ]
  },
  {
   "cell_type": "code",
   "execution_count": null,
   "id": "b20b2ce1-dec5-46b9-970b-c2d69d0fefe8",
   "metadata": {},
   "outputs": [],
   "source": [
    "#function wit"
   ]
  }
 ],
 "metadata": {
  "kernelspec": {
   "display_name": "Python 3 (ipykernel)",
   "language": "python",
   "name": "python3"
  },
  "language_info": {
   "codemirror_mode": {
    "name": "ipython",
    "version": 3
   },
   "file_extension": ".py",
   "mimetype": "text/x-python",
   "name": "python",
   "nbconvert_exporter": "python",
   "pygments_lexer": "ipython3",
   "version": "3.12.4"
  }
 },
 "nbformat": 4,
 "nbformat_minor": 5
}
