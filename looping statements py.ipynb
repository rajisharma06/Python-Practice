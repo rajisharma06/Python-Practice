{
 "cells": [
  {
   "cell_type": "code",
   "execution_count": 1,
   "id": "7feee9d8-239c-48d6-9925-037aa9fd008f",
   "metadata": {},
   "outputs": [
    {
     "name": "stdout",
     "output_type": "stream",
     "text": [
      "510152025"
     ]
    }
   ],
   "source": [
    "#print 1st 5 multipls of 5:\n",
    "\n",
    "a=5\n",
    "while a<=25:\n",
    "    print(a,end=\"\")\n",
    "    a=a+5"
   ]
  },
  {
   "cell_type": "code",
   "execution_count": 14,
   "id": "aff98391-b65e-4819-bbd6-3888334a5178",
   "metadata": {},
   "outputs": [
    {
     "name": "stdin",
     "output_type": "stream",
     "text": [
      "enter the number of the terms: 6\n"
     ]
    },
    {
     "name": "stdout",
     "output_type": "stream",
     "text": [
      "sum of first 6 number is 21\n"
     ]
    }
   ],
   "source": [
    "#sum of n numbers using while loop\n",
    "a=int(input(\"enter the number of the terms:\"))\n",
    "sum=0\n",
    "i=1\n",
    "while i<=a:\n",
    "    sum+=i\n",
    "    i+=1\n",
    "print(\"sum of first\",a,\"number is\",sum)\n",
    "    "
   ]
  },
  {
   "cell_type": "code",
   "execution_count": 16,
   "id": "71f417fe-8b68-4787-8fa5-225661d7a30b",
   "metadata": {},
   "outputs": [
    {
     "name": "stdout",
     "output_type": "stream",
     "text": [
      "52\n",
      "51\n",
      "50\n",
      "49\n",
      "48\n",
      "47\n",
      "46\n",
      "45\n",
      "44\n",
      "43\n",
      "42\n",
      "41\n",
      "40\n"
     ]
    }
   ],
   "source": [
    "#print -52 and -40 in reverse order\n",
    "n=52\n",
    "while n>=40:\n",
    "    print(n)\n",
    "    n -=1"
   ]
  },
  {
   "cell_type": "code",
   "execution_count": 2,
   "id": "d025965f-0648-4fe4-8939-7381c2305496",
   "metadata": {},
   "outputs": [
    {
     "ename": "IndentationError",
     "evalue": "unindent does not match any outer indentation level (<string>, line 7)",
     "output_type": "error",
     "traceback": [
      "\u001b[1;36m  File \u001b[1;32m<string>:7\u001b[1;36m\u001b[0m\n\u001b[1;33m    i+=1\u001b[0m\n\u001b[1;37m        ^\u001b[0m\n\u001b[1;31mIndentationError\u001b[0m\u001b[1;31m:\u001b[0m unindent does not match any outer indentation level\n"
     ]
    }
   ],
   "source": [
    "#print the even numbers  from 0to 50 (between numbers)\n",
    "n=int(input(\"enter a number\"))\n",
    "i=0\n",
    "while i<= n:\n",
    "  if i%2 == 0:\n",
    "        print(i)\n",
    "   i+=1"
   ]
  },
  {
   "cell_type": "code",
   "execution_count": null,
   "id": "ce368f4b-a136-4923-997c-38b9668703cb",
   "metadata": {},
   "outputs": [],
   "source": []
  }
 ],
 "metadata": {
  "kernelspec": {
   "display_name": "Python 3 (ipykernel)",
   "language": "python",
   "name": "python3"
  },
  "language_info": {
   "codemirror_mode": {
    "name": "ipython",
    "version": 3
   },
   "file_extension": ".py",
   "mimetype": "text/x-python",
   "name": "python",
   "nbconvert_exporter": "python",
   "pygments_lexer": "ipython3",
   "version": "3.12.4"
  }
 },
 "nbformat": 4,
 "nbformat_minor": 5
}
