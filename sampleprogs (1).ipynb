{
 "cells": [
  {
   "cell_type": "code",
   "execution_count": 3,
   "id": "9b408e4c-5d9d-499f-90c6-9c9aaa936f37",
   "metadata": {},
   "outputs": [
    {
     "name": "stdin",
     "output_type": "stream",
     "text": [
      " MCAB-2024\n"
     ]
    },
    {
     "name": "stdout",
     "output_type": "stream",
     "text": [
      "digit: 4\n",
      "Alphabet: 4\n"
     ]
    }
   ],
   "source": [
    "#write a  program to FIND NO OF characters and digits in a string\n",
    "\n",
    "\n",
    "x= input()\n",
    "digit=0\n",
    "alphabet=0\n",
    "for i in x:\n",
    "    if i.isdigit():\n",
    "        digit+=1\n",
    "    elif i.isalpha():\n",
    "        alphabet+=1\n",
    "        \n",
    "print(\"digit:\",digit)\n",
    "print(\"Alphabet:\",alphabet)\n",
    "        \n",
    " "
   ]
  },
  {
   "cell_type": "code",
   "execution_count": 7,
   "id": "0516d924-66c9-41d1-84bf-291c07b64ac6",
   "metadata": {},
   "outputs": [
    {
     "name": "stdin",
     "output_type": "stream",
     "text": [
      " 5\n"
     ]
    },
    {
     "name": "stdout",
     "output_type": "stream",
     "text": [
      "1\n",
      "2\n",
      "6\n",
      "24\n",
      "120\n"
     ]
    }
   ],
   "source": [
    "#write a program to the factorial number\n",
    "n=int(input())\n",
    "fact=1\n",
    "for i in range(1,n+1):\n",
    "    fact=fact*i\n",
    "    print(fact)"
   ]
  },
  {
   "cell_type": "code",
   "execution_count": 15,
   "id": "1c2cfdeb-f27e-4db8-b827-67a9d162b63f",
   "metadata": {},
   "outputs": [
    {
     "ename": "SyntaxError",
     "evalue": "cannot assign to expression here. Maybe you meant '==' instead of '='? (300745737.py, line 3)",
     "output_type": "error",
     "traceback": [
      "\u001b[1;36m  Cell \u001b[1;32mIn[15], line 3\u001b[1;36m\u001b[0m\n\u001b[1;33m    rev-text=\"\"\u001b[0m\n\u001b[1;37m    ^\u001b[0m\n\u001b[1;31mSyntaxError\u001b[0m\u001b[1;31m:\u001b[0m cannot assign to expression here. Maybe you meant '==' instead of '='?\n"
     ]
    }
   ],
   "source": [
    "#write  a program to reverse a string and check whether its palindrome or not.\n",
    "text=str(input())\n",
    "rev-text=\"\"\n",
    "for j in text:\n",
    "    rev_text=j+rev_text\n",
    "    print(rev_text)\n",
    "print(\"reversed text:\",rev_text)\n",
    "if text=rev_text:\n",
    "    print(\"yes,the given number is palindrome\")   \n",
    "else:\n",
    "     print(\"no, the given number is not a plaindrome\")"
   ]
  },
  {
   "cell_type": "code",
   "execution_count": null,
   "id": "993c9fca-e55b-4c9c-a2d5-aa39bd2a1174",
   "metadata": {},
   "outputs": [],
   "source": []
  }
 ],
 "metadata": {
  "kernelspec": {
   "display_name": "Python 3 (ipykernel)",
   "language": "python",
   "name": "python3"
  },
  "language_info": {
   "codemirror_mode": {
    "name": "ipython",
    "version": 3
   },
   "file_extension": ".py",
   "mimetype": "text/x-python",
   "name": "python",
   "nbconvert_exporter": "python",
   "pygments_lexer": "ipython3",
   "version": "3.12.4"
  }
 },
 "nbformat": 4,
 "nbformat_minor": 5
}
